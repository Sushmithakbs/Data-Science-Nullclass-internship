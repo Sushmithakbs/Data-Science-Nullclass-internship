{
  "cells": [
    {
      "cell_type": "markdown",
      "id": "318e0022",
      "metadata": {
        "id": "318e0022"
      },
      "source": [
        "# 🧠 Visualize CNN Activation Maps on MNIST\n",
        "This notebook trains a simple CNN on the MNIST dataset, then visualizes activation maps from a selected convolutional layer using PyTorch hooks."
      ]
    },
    {
      "cell_type": "markdown",
      "id": "97c107da",
      "metadata": {
        "id": "97c107da"
      },
      "source": [
        "## 📦 1. Import Required Libraries"
      ]
    },
    {
      "cell_type": "code",
      "execution_count": null,
      "id": "b7b43c83",
      "metadata": {
        "id": "b7b43c83"
      },
      "outputs": [],
      "source": [
        "import torch\n",
        "import torch.nn as nn\n",
        "import torch.optim as optim\n",
        "import torchvision\n",
        "import torchvision.transforms as transforms\n",
        "import matplotlib.pyplot as plt\n",
        "import numpy as np"
      ]
    },
    {
      "cell_type": "markdown",
      "id": "957c08ab",
      "metadata": {
        "id": "957c08ab"
      },
      "source": [
        "## 🧠 2. Define CNN Model"
      ]
    },
    {
      "cell_type": "code",
      "execution_count": null,
      "id": "b4089441",
      "metadata": {
        "id": "b4089441"
      },
      "outputs": [],
      "source": [
        "class SimpleCNN(nn.Module):\n",
        "    def __init__(self):\n",
        "        super(SimpleCNN, self).__init__()\n",
        "        self.conv1 = nn.Conv2d(1, 8, kernel_size=3, padding=1)\n",
        "        self.conv2 = nn.Conv2d(8, 16, kernel_size=3, padding=1)\n",
        "        self.pool = nn.MaxPool2d(2, 2)\n",
        "        self.fc = nn.Linear(16 * 7 * 7, 10)\n",
        "\n",
        "    def forward(self, x):\n",
        "        x = self.pool(torch.relu(self.conv1(x)))\n",
        "        x = self.pool(torch.relu(self.conv2(x)))\n",
        "        x = x.view(-1, 16 * 7 * 7)\n",
        "        x = self.fc(x)\n",
        "        return x\n",
        "\n",
        "model = SimpleCNN()"
      ]
    },
    {
      "cell_type": "markdown",
      "id": "1cfab91e",
      "metadata": {
        "id": "1cfab91e"
      },
      "source": [
        "## 📥 3. Load MNIST Dataset"
      ]
    },
    {
      "cell_type": "code",
      "execution_count": null,
      "id": "0526290b",
      "metadata": {
        "colab": {
          "base_uri": "https://localhost:8080/"
        },
        "id": "0526290b",
        "outputId": "34bc0b42-63e8-40af-b0a7-29373ce1d549"
      },
      "outputs": [
        {
          "output_type": "stream",
          "name": "stderr",
          "text": [
            "100%|██████████| 9.91M/9.91M [00:00<00:00, 59.1MB/s]\n",
            "100%|██████████| 28.9k/28.9k [00:00<00:00, 1.76MB/s]\n",
            "100%|██████████| 1.65M/1.65M [00:00<00:00, 14.8MB/s]\n",
            "100%|██████████| 4.54k/4.54k [00:00<00:00, 4.00MB/s]\n"
          ]
        }
      ],
      "source": [
        "transform = transforms.Compose([\n",
        "    transforms.ToTensor(),\n",
        "    transforms.Normalize((0.5,), (0.5,))\n",
        "])\n",
        "\n",
        "trainset = torchvision.datasets.MNIST(root='./data', train=True,\n",
        "                                        download=True, transform=transform)\n",
        "trainloader = torch.utils.data.DataLoader(trainset, batch_size=64,\n",
        "                                          shuffle=True)\n",
        "\n",
        "testset = torchvision.datasets.MNIST(root='./data', train=False,\n",
        "                                       download=True, transform=transform)\n",
        "testloader = torch.utils.data.DataLoader(testset, batch_size=1,\n",
        "                                         shuffle=True)"
      ]
    },
    {
      "cell_type": "markdown",
      "id": "53f9147a",
      "metadata": {
        "id": "53f9147a"
      },
      "source": [
        "## 🏋️ 4. Train the Model (Quick Training - 1 Epoch)"
      ]
    },
    {
      "cell_type": "code",
      "execution_count": null,
      "id": "983f24b8",
      "metadata": {
        "colab": {
          "base_uri": "https://localhost:8080/"
        },
        "id": "983f24b8",
        "outputId": "71ed67ef-13ab-47bd-d61c-d32b1b7dba8f"
      },
      "outputs": [
        {
          "output_type": "stream",
          "name": "stdout",
          "text": [
            "Epoch 1 complete, Loss: 0.0361\n"
          ]
        }
      ],
      "source": [
        "criterion = nn.CrossEntropyLoss()\n",
        "optimizer = optim.Adam(model.parameters(), lr=0.001)\n",
        "\n",
        "for epoch in range(1):\n",
        "    for inputs, labels in trainloader:\n",
        "        optimizer.zero_grad()\n",
        "        outputs = model(inputs)\n",
        "        loss = criterion(outputs, labels)\n",
        "        loss.backward()\n",
        "        optimizer.step()\n",
        "    print(f\"Epoch {epoch+1} complete, Loss: {loss.item():.4f}\")"
      ]
    },
    {
      "cell_type": "markdown",
      "id": "a0ec92d4",
      "metadata": {
        "id": "a0ec92d4"
      },
      "source": [
        "## 🔍 5. Register Hook and Capture Activation Maps"
      ]
    },
    {
      "cell_type": "code",
      "execution_count": null,
      "id": "e5a5754c",
      "metadata": {
        "id": "e5a5754c"
      },
      "outputs": [],
      "source": [
        "activation_maps = {}\n",
        "\n",
        "def hook_fn(module, input, output):\n",
        "    activation_maps['conv1'] = output\n",
        "\n",
        "# Register hook on conv1\n",
        "hook = model.conv1.register_forward_hook(hook_fn)"
      ]
    },
    {
      "cell_type": "markdown",
      "id": "34263124",
      "metadata": {
        "id": "34263124"
      },
      "source": [
        "## 📸 6. Get a Sample Test Image and Forward Pass"
      ]
    },
    {
      "cell_type": "code",
      "execution_count": null,
      "id": "d15a0a3f",
      "metadata": {
        "colab": {
          "base_uri": "https://localhost:8080/",
          "height": 428
        },
        "id": "d15a0a3f",
        "outputId": "2f198a25-c9ae-4ae4-de32-875d7a7a1803"
      },
      "outputs": [
        {
          "output_type": "display_data",
          "data": {
            "text/plain": [
              "<Figure size 640x480 with 1 Axes>"
            ],
            "image/png": "[encoded data removed]"
          },
          "metadata": {}
        }
      ],
      "source": [
        "dataiter = iter(testloader)\n",
        "images, labels = next(dataiter)\n",
        "_ = model(images)\n",
        "img = images[0].squeeze().numpy()\n",
        "\n",
        "# Show input image\n",
        "plt.imshow(img, cmap='gray')\n",
        "plt.title(f\"Label: {labels.item()}\")\n",
        "plt.axis('off')\n",
        "plt.show()"
      ]
    },
    {
      "cell_type": "markdown",
      "id": "0275b32e",
      "metadata": {
        "id": "0275b32e"
      },
      "source": [
        "## 🖼️ 7. Visualize Activation Maps from conv1"
      ]
    },
    {
      "cell_type": "code",
      "execution_count": null,
      "id": "b9cfa4d6",
      "metadata": {
        "colab": {
          "base_uri": "https://localhost:8080/",
          "height": 254
        },
        "id": "b9cfa4d6",
        "outputId": "2eec8aab-9188-4262-e24b-977a930de263"
      },
      "outputs": [
        {
          "output_type": "display_data",
          "data": {
            "text/plain": [
              "<Figure size 1500x500 with 5 Axes>"
            ],
            "image/png": "[encoded data removed]"
          },
          "metadata": {}
        }
      ],
      "source": [
        "activations = activation_maps['conv1'].squeeze(0)\n",
        "fig, axes = plt.subplots(1, 5, figsize=(15, 5))\n",
        "for i in range(5):\n",
        "    axes[i].imshow(activations[i].detach().numpy(), cmap='viridis')\n",
        "    axes[i].set_title(f\"Filter {i}\")\n",
        "    axes[i].axis('off')\n",
        "plt.show()"
      ]
    }
  ],
  "metadata": {
    "colab": {
      "provenance": [],
      "cell_execution_strategy": "setup"
    },
    "language_info": {
      "name": "python"
    },
    "kernelspec": {
      "name": "python3",
      "display_name": "Python 3"
    }
  },
  "nbformat": 4,
  "nbformat_minor": 5
}
