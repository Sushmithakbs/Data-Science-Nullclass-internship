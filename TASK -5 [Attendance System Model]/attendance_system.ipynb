{
 "cells": [
  {
   "cell_type": "markdown",
   "id": "ba96cd21",
   "metadata": {},
   "source": [
    "# Attendance System (Self-Contained Version)\n",
    "\n",
    "This notebook simulates an attendance system using Mediapipe-like face detection logic, \n",
    "dummy face embeddings, and a simple SVM classifier trained on generated data.\n",
    "\n",
    "- Detects faces (simulated)\n",
    "- Marks attendance with timestamp and emotion\n",
    "- Saves results to CSV and Excel\n"
   ]
  },
  {
   "cell_type": "code",
   "execution_count": null,
   "id": "6bca18e5",
   "metadata": {},
   "outputs": [],
   "source": [
    "import numpy as np\n",
    "import pandas as pd\n",
    "import pytz\n",
    "import os\n",
    "from datetime import datetime\n",
    "from sklearn.svm import SVC\n",
    "from sklearn.preprocessing import LabelEncoder\n",
    "import random\n",
    "\n",
    "# Simulated setup (no FaceNet model needed here)\n",
    "attendance = {}\n",
    "emotion_classes = [\"angry\",\"disgust\",\"fear\",\"happy\",\"neutral\",\"sad\",\"surprise\"]\n"
   ]
  },
  {
   "cell_type": "code",
   "execution_count": null,
   "id": "1149fb67",
   "metadata": {},
   "outputs": [],
   "source": [
    "# Create a dummy dataset of student embeddings and names\n",
    "students = [\"Alice\",\"Bob\",\"Charlie\",\"David\"]\n",
    "embeddings = np.random.rand(len(students), 128)  # 128-dim dummy embeddings\n",
    "\n",
    "# Train a simple SVM on dummy data\n",
    "label_encoder = LabelEncoder()\n",
    "y = label_encoder.fit_transform(students)\n",
    "svm = SVC(probability=True)\n",
    "svm.fit(embeddings, y)\n"
   ]
  },
  {
   "cell_type": "code",
   "execution_count": null,
   "id": "563b80b1",
   "metadata": {},
   "outputs": [],
   "source": [
    "def get_dummy_embedding():\n",
    "    return np.random.rand(128)\n",
    "\n",
    "def get_dummy_emotion():\n",
    "    return random.choice(emotion_classes)\n",
    "\n",
    "def mark_attendance(name, emotion):\n",
    "    if name not in attendance:\n",
    "        now = datetime.now(pytz.timezone(\"Asia/Kolkata\")).strftime(\"%Y-%m-%d %H:%M:%S\")\n",
    "        attendance[name] = {\"Status\":\"Present\",\"Emotion\":emotion,\"Time\":now}\n",
    "\n",
    "def save_attendance():\n",
    "    df = pd.DataFrame(attendance).T\n",
    "    today = datetime.now().strftime(\"%Y-%m-%d\")\n",
    "    os.makedirs(\"attendance\", exist_ok=True)\n",
    "    csv_file = f\"attendance/attendance_{today}.csv\"\n",
    "    df.to_csv(csv_file)\n",
    "    df.to_excel(csv_file.replace(\".csv\",\".xlsx\"))\n",
    "    print(f\"Attendance saved to {csv_file}\")\n"
   ]
  },
  {
   "cell_type": "code",
   "execution_count": null,
   "id": "4764d990",
   "metadata": {},
   "outputs": [],
   "source": [
    "def run_attendance():\n",
    "    now = datetime.now(pytz.timezone(\"Asia/Kolkata\"))\n",
    "    if not (now.hour == 9 and 30 <= now.minute < 60):\n",
    "        print(\"Attendance only works 09:30–10:00 AM (simulated check).\")\n",
    "        return\n",
    "\n",
    "    # Simulate camera frames\n",
    "    for i in range(5):  # simulate 5 frames\n",
    "        emb = get_dummy_embedding().reshape(1,-1)\n",
    "        pred = svm.predict(emb)[0]\n",
    "        name = label_encoder.inverse_transform([pred])[0]\n",
    "        emotion = get_dummy_emotion()\n",
    "        mark_attendance(name, emotion)\n",
    "        print(f\"Detected {name} with emotion {emotion}\")\n",
    "\n",
    "    save_attendance()\n",
    "\n",
    "# Run attendance\n",
    "run_attendance()\n"
   ]
  }
 ],
 "metadata": {},
 "nbformat": 4,
 "nbformat_minor": 5
}
