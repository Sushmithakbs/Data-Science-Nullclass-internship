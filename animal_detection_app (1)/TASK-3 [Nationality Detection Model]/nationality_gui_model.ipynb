{
 "cells": [
  {
   "cell_type": "code",
   "execution_count": null,
   "metadata": {},
   "outputs": [],
   "source": [
    "%pip install tensorflow scikit-learn opencv-python tkinter matplotlib --quiet"
   ]
  },
  {
   "cell_type": "code",
   "execution_count": null,
   "metadata": {},
   "outputs": [],
   "source": [
    "import numpy as np\n",
    "import cv2\n",
    "import tkinter as tk\n",
    "from tkinter import filedialog\n",
    "from tkinter import Label, Button, Canvas\n",
    "from PIL import Image, ImageTk\n",
    "import matplotlib.pyplot as plt\n",
    "import joblib\n",
    "from tensorflow.keras.models import load_model\n",
    "from tensorflow.keras.preprocessing.image import img_to_array"
   ]
  },
  {
   "cell_type": "code",
   "execution_count": null,
   "metadata": {},
   "outputs": [],
   "source": [
    "nationality_model = load_model('models/nationality_model.h5')\n",
    "emotion_model = load_model('models/emotion_model.h5')\n",
    "age_model = load_model('models/age_model.h5')\n",
    "dress_color_model = joblib.load('models/dress_color_model.pkl')"
   ]
  },
  {
   "cell_type": "code",
   "execution_count": null,
   "metadata": {},
   "outputs": [],
   "source": [
    "nationality_labels = ['Indian', 'American', 'African', 'Other']\n",
    "emotion_labels = ['Happy', 'Sad', 'Angry', 'Neutral']\n",
    "dress_color_labels = ['Red', 'Blue', 'Green', 'Yellow', 'White', 'Black']"
   ]
  },
  {
   "cell_type": "code",
   "execution_count": null,
   "metadata": {},
   "outputs": [],
   "source": [
    "def preprocess_image(path):\n",
    "    img = cv2.imread(path)\n",
    "    img_resized = cv2.resize(img, (224, 224))\n",
    "    img_array = img_to_array(img_resized) / 255.0\n",
    "    return np.expand_dims(img_array, axis=0), img"
   ]
  },
  {
   "cell_type": "code",
   "execution_count": null,
   "metadata": {},
   "outputs": [],
   "source": [
    "def predict_all(image_path):\n",
    "    preprocessed, original_img = preprocess_image(image_path)\n",
    "    \n",
    "    nationality_idx = np.argmax(nationality_model.predict(preprocessed), axis=1)[0]\n",
    "    emotion_idx = np.argmax(emotion_model.predict(preprocessed), axis=1)[0]\n",
    "    \n",
    "    nationality = nationality_labels[nationality_idx]\n",
    "    emotion = emotion_labels[emotion_idx]\n",
    "    \n",
    "    age = None\n",
    "    dress_color = None\n",
    "    \n",
    "    if nationality == 'Indian':\n",
    "        age = int(age_model.predict(preprocessed)[0][0])\n",
    "        dress_color = dress_color_model.predict(preprocessed.reshape(1, -1))[0]\n",
    "    elif nationality == 'American':\n",
    "        age = int(age_model.predict(preprocessed)[0][0])\n",
    "    elif nationality == 'African':\n",
    "        dress_color = dress_color_model.predict(preprocessed.reshape(1, -1))[0]\n",
    "    \n",
    "    return nationality, emotion, age, dress_color, original_img"
   ]
  },
  {
   "cell_type": "code",
   "execution_count": null,
   "metadata": {},
   "outputs": [],
   "source": [
    "class App:\n",
    "    def __init__(self, root):\n",
    "        self.root = root\n",
    "        self.root.title(\"Nationality Detection GUI\")\n",
    "        self.root.geometry(\"700x500\")\n",
    "        \n",
    "        self.label = Label(root, text=\"Upload an image\", font=(\"Arial\", 14))\n",
    "        self.label.pack()\n",
    "        \n",
    "        self.canvas = Canvas(root, width=300, height=300)\n",
    "        self.canvas.pack()\n",
    "        \n",
    "        self.button = Button(root, text=\"Browse\", command=self.browse_image)\n",
    "        self.button.pack()\n",
    "        \n",
    "        self.output_label = Label(root, text=\"\", font=(\"Arial\", 12), wraplength=600)\n",
    "        self.output_label.pack(pady=20)\n",
    "\n",
    "    def browse_image(self):\n",
    "        file_path = filedialog.askopenfilename()\n",
    "        if file_path:\n",
    "            nationality, emotion, age, dress_color, original_img = predict_all(file_path)\n",
    "            self.display_image(original_img)\n",
    "            \n",
    "            output_text = f\"Nationality: {nationality}\\nEmotion: {emotion}\"\n",
    "            if age is not None:\n",
    "                output_text += f\"\\nAge: {age}\"\n",
    "            if dress_color is not None:\n",
    "                output_text += f\"\\nDress Color: {dress_color}\"\n",
    "            \n",
    "            self.output_label.config(text=output_text)\n",
    "\n",
    "    def display_image(self, cv_img):\n",
    "        img = cv2.cvtColor(cv_img, cv2.COLOR_BGR2RGB)\n",
    "        img_pil = Image.fromarray(img)\n",
    "        img_resized = img_pil.resize((300, 300))\n",
    "        self.tk_image = ImageTk.PhotoImage(img_resized)\n",
    "        self.canvas.create_image(0, 0, anchor='nw', image=self.tk_image)"
   ]
  },
  {
   "cell_type": "code",
   "execution_count": null,
   "metadata": {},
   "outputs": [],
   "source": [
    "root = tk.Tk()\n",
    "app = App(root)\n",
    "root.mainloop()"
   ]
  }
 ],
 "metadata": {
  "kernelspec": {
   "display_name": "Python 3",
   "language": "python",
   "name": "python3"
  },
  "language_info": {
   "name": "python",
   "version": "3.8"
  }
 },
 "nbformat": 4,
 "nbformat_minor": 4
}
