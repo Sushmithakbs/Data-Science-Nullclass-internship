{
  "nbformat": 4,
  "nbformat_minor": 0,
  "metadata": {
    "colab": {
      "provenance": []
    },
    "kernelspec": {
      "name": "python3",
      "display_name": "Python 3"
    },
    "language_info": {
      "name": "python"
    }
  },
  "cells": [
    {
      "cell_type": "code",
      "execution_count": null,
      "metadata": {
        "id": "PiK_Ttr6hBUx"
      },
      "outputs": [],
      "source": [
        "import cv2\n",
        "import tkinter as tk\n",
        "from tkinter import filedialog, messagebox\n",
        "\n",
        "eye_cascade = cv2.CascadeClassifier(cv2.data.haarcascades + 'haarcascade_eye.xml')\n",
        "face_cascade = cv2.CascadeClassifier(cv2.data.haarcascades + 'haarcascade_frontalface_default.xml')\n",
        "\n",
        "def detect_drowsiness(image_path):\n",
        "    img = cv2.imread(image_path)\n",
        "    gray = cv2.cvtColor(img, cv2.COLOR_BGR2GRAY)\n",
        "    faces = face_cascade.detectMultiScale(gray, 1.3, 5)\n",
        "    sleep_count = 0\n",
        "    for (x,y,w,h) in faces:\n",
        "        roi_gray = gray[y:y+h, x:x+w]\n",
        "        eyes = eye_cascade.detectMultiScale(roi_gray)\n",
        "        if len(eyes) < 2:\n",
        "            cv2.rectangle(img,(x,y),(x+w,y+h),(0,0,255),2)\n",
        "            sleep_count += 1\n",
        "        else:\n",
        "            cv2.rectangle(img,(x,y),(x+w,y+h),(0,255,0),2)\n",
        "    cv2.imshow(\"Result\", img)\n",
        "    cv2.waitKey(0)\n",
        "    cv2.destroyAllWindows()\n",
        "    messagebox.showinfo(\"Result\", f\"Sleeping people: {sleep_count}\")\n",
        "\n",
        "def upload_image():\n",
        "    file_path = filedialog.askopenfilename()\n",
        "    if file_path:\n",
        "        detect_drowsiness(file_path)\n",
        "\n",
        "root = tk.Tk()\n",
        "root.title(\"Drowsiness Detection\")\n",
        "\n",
        "btn = tk.Button(root, text=\"Upload Image\", command=upload_image)\n",
        "btn.pack(pady=20)\n",
        "\n",
        "root.mainloop()\n"
      ]
    }
  ]
}