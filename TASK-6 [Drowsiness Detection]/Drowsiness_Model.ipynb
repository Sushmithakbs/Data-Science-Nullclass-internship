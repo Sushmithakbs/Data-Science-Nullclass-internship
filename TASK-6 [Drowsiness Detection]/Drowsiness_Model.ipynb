{
 "cells": [
  {
   "cell_type": "markdown",
   "metadata": {},
   "source": [
    "# Drowsiness Detection Model (Rule-Based, Colab-Friendly)"
   ]
  },
  {
   "cell_type": "code",
   "execution_count": null,
   "metadata": {},
   "outputs": [],
   "source": [
    "import cv2, dlib, numpy as np, matplotlib.pyplot as plt\n",
    "from imutils import face_utils\n",
    "from google.colab.patches import cv2_imshow\n",
    "\n",
    "# Load Haar cascade for eyes\n",
    "eye_cascade = cv2.CascadeClassifier(cv2.data.haarcascades + 'haarcascade_eye.xml')\n",
    "face_cascade = cv2.CascadeClassifier(cv2.data.haarcascades + 'haarcascade_frontalface_default.xml')\n",
    "\n",
    "def detect_drowsiness(img_path):\n",
    "    img = cv2.imread(img_path)\n",
    "    gray = cv2.cvtColor(img, cv2.COLOR_BGR2GRAY)\n",
    "    faces = face_cascade.detectMultiScale(gray, 1.3, 5)\n",
    "    sleep_count = 0\n",
    "    for (x,y,w,h) in faces:\n",
    "        roi_gray = gray[y:y+h, x:x+w]\n",
    "        roi_color = img[y:y+h, x:x+w]\n",
    "        eyes = eye_cascade.detectMultiScale(roi_gray)\n",
    "        if len(eyes) < 2:\n",
    "            cv2.rectangle(img,(x,y),(x+w,y+h),(0,0,255),2)\n",
    "            sleep_count += 1\n",
    "        else:\n",
    "            cv2.rectangle(img,(x,y),(x+w,y+h),(0,255,0),2)\n",
    "    print(f'Sleeping people: {sleep_count}')\n",
    "    cv2_imshow(img)\n",
    "\n",
    "# Example usage\n",
    "# detect_drowsiness('your_image.jpg')"
   ]
  }
 ],
 "metadata": {
  "kernelspec": {
   "display_name": "Python 3",
   "language": "python",
   "name": "python3"
  },
  "language_info": {
   "name": "python",
   "version": "3.12"
  }
 },
 "nbformat": 4,
 "nbformat_minor": 5
}